{
 "cells": [
  {
   "cell_type": "markdown",
   "metadata": {},
   "source": [
    "# Druggability project"
   ]
  },
  {
   "cell_type": "markdown",
   "metadata": {},
   "source": [
    "### Andreu Bofill, Inés Sentís, Mariona Torrens, Alejandro Varela"
   ]
  },
  {
   "cell_type": "markdown",
   "metadata": {},
   "source": [
    "This project aims to provide a simple platform to detect among a set of ligands and a protein if their interaction result in a system with a free energy lower than -2 kcal/mol. This would reflect a good interaction between the ligand and the protein which is a very interesting property in a drug as, ideally, a low energy of interaction may correspond with a good drug candidate.\n",
    "\n",
    "This platform starts parameterizing the selected ligands to achieve a conformation as close to reality as possible. This process is really computationally demanding and depends on the number of atoms of the molecule being parameterized. The script that acomplishes this is in the github repository and it is called 'parameter.py'.\n",
    "\n"
   ]
  },
  {
   "cell_type": "code",
   "execution_count": null,
   "metadata": {
    "collapsed": true
   },
   "outputs": [],
   "source": [
    "from htmd import *\n",
    "from htmd.molecule.util import maxDistance\n",
    "from htmd.protocols.equilibration_v1 import Equilibration\n",
    "from htmd.protocols.production_v1 import Production\n",
    "from natsort import natsorted\n",
    "\n",
    "def simulate(pdbpath,ligandpath,path_ligand_rtf,path_ligand_prm,nbuilds=4,run_time=50,minsim=6,maxsim=8,numbep=12,dimtica=3,sleeping=14400):\n",
    "    poses=dockinit(pdbpath,ligandpath)\n",
    "    print('\\nDocking finished.')\n",
    "    building(poses,path_ligand_rtf,path_ligand_prm,nbuilds)\n",
    "    print('\\nAll systems build.')\n",
    "    Equilibrate()\n",
    "    print('All systems equilibrated.Entering production, this could take days of running...')\n",
    "    Produce(run_time)\n",
    "    print('Finished producing. Starting the adaptive run, this could take days of running...')\n",
    "    adaptive(minsim,maxsim,numbep,dimtica,sleeping)"
   ]
  },
  {
   "cell_type": "markdown",
   "metadata": {},
   "source": [
    "To start, this platform initializes the system by doing a docking between the ligand and the protein using the dock function of HTMD. The top 5 poses are used to build the systems, each pose is built independently. The point of starting with docked position is that it ensures a good starting point to run a simulation and saves time and computer resources."
   ]
  },
  {
   "cell_type": "code",
   "execution_count": null,
   "metadata": {
    "collapsed": true
   },
   "outputs": [],
   "source": [
    "def dockinit(pdbpath,ligandpath):\n",
    "    prot = Molecule(pdbpath) #'ethtryp/trypsin.pdb'\n",
    "    prot.filter('protein or water or resname CA') #before it said chain A and (...)\n",
    "    prot.set('segid', 'P', sel='protein and noh')\n",
    "    prot.set('segid', 'W', sel='water')\n",
    "    prot.set('segid', 'CA', sel='resname CA')\n",
    "    D = maxDistance(prot, 'all')\n",
    "    D = D + 15\n",
    "    prot.center()\n",
    "    lig = Molecule(ligandpath) # 'ethtryp/ethanol.pdb'\n",
    "    print(lig,prot)\n",
    "    poses, scores = dock(prot, lig)\n",
    "    return(poses)"
   ]
  },
  {
   "cell_type": "markdown",
   "metadata": {},
   "source": [
    "Each of the five different poses are solvated and a salt concentration of 0.15  is added, to simulate cell conditions."
   ]
  },
  {
   "cell_type": "code",
   "execution_count": null,
   "metadata": {
    "collapsed": true
   },
   "outputs": [],
   "source": [
    "def building(poses,path_ligand_rtf,path_ligand_prm,nbuilds=4):\n",
    "    moltbuilt=[]\n",
    "    for i, p in enumerate(poses):\n",
    "        ligand = p\n",
    "        ligand.set('segid','L')\n",
    "        ligand.set('resname','MOL')\n",
    "        mol = Molecule(name='combo')\n",
    "        mol.append(prot)\n",
    "        mol.append(ligand)\n",
    "\n",
    "        smol = solvate(mol, minmax=[[-D, -D, -D], [D, D, D]])\n",
    "        topos  = ['top/top_all22star_prot.rtf', 'top/top_water_ions.rtf',path_ligand_rtf] #'./ethtryp/ethanol.rtf'\n",
    "        params = ['par/par_all22star_prot.prm', 'par/par_water_ions.prm', path_ligand_prm] #'./ethtryp/ethanol.prm'\n",
    "\n",
    "        moltbuilt.append(charmm.build(smol, topo=topos, param=params, outdir='./docked/build/{}/'.format(i+1), saltconc=0.15))\n",
    "        if i==nbuilds:\n",
    "            break"
   ]
  },
  {
   "cell_type": "markdown",
   "metadata": {},
   "source": [
    "After this, an equilibration protocol is performed over each system. This allows us to stablish a temperature of 298 Kelvin in each system using 1000 time steps."
   ]
  },
  {
   "cell_type": "code",
   "execution_count": null,
   "metadata": {
    "collapsed": true
   },
   "outputs": [],
   "source": [
    "def Equilibrate():\n",
    "    md = Equilibration()\n",
    "    md.numsteps = 1000\n",
    "    md.temperature = 298\n",
    "    builds=natsorted(glob('docked/build/*/'))\n",
    "    for i,b in enumerate(builds):\n",
    "        md.write(b,'docked/equil/{}/'.format(i+1))\n",
    "    mdx = AcemdLocal()\n",
    "    mdx.submit(glob('./docked/equil/*/'))\n",
    "    mdx.wait()"
   ]
  },
  {
   "cell_type": "markdown",
   "metadata": {},
   "source": [
    "The already equilibrated systems enter the production step where trajectories for each system are created using the Newton equations of motion."
   ]
  },
  {
   "cell_type": "code",
   "execution_count": null,
   "metadata": {
    "collapsed": true
   },
   "outputs": [],
   "source": [
    "def Produce(run_time=50):\n",
    "    equils=natsorted(glob('docked/equil/*/'))\n",
    "    for i,b in enumerate(equils):\n",
    "        md= Production()\n",
    "        md.acemd.bincoordinates = 'output.coor'\n",
    "        md.acemd.extendedsystem  = 'output.xsc'\n",
    "        md.acemd.binvelocities=None\n",
    "        md.acemd.binindex=None\n",
    "        md.acemd.run=str(run_time)+'ns'\n",
    "        md.temperature = 300\n",
    "        equils=natsorted(glob('docked/equil/*/'))\n",
    "        md.write('./docked/equil/{}/'.format(i+1), 'docked/generators/{}/'.format(i+1))\n",
    "\n",
    "    mdx = AcemdLocal()\n",
    "    mdx.submit(glob('./docked/generators/*/'))\n",
    "    mdx.wait()"
   ]
  },
  {
   "cell_type": "markdown",
   "metadata": {},
   "source": [
    "Finally, we run adaptive to generate the epochs which will finally be used for the ligand binding analysis. A folder called 'filtered' will be created in the working directory which will contain the filtered trajectories for all the epochs. The point of doing adaptative is to accelerate the simulation proccess by selecting those results that represent an advanced position to avoid repetition from the beggining."
   ]
  },
  {
   "cell_type": "code",
   "execution_count": null,
   "metadata": {
    "collapsed": true
   },
   "outputs": [],
   "source": [
    "def adaptive(minsim=6,maxsim=8,numbep=12,dimtica=3,sleeping=14400):\n",
    "    md = AdaptiveRun()\n",
    "    md.nmin=minsim\n",
    "    md.nmax=maxsim\n",
    "    md.nepochs = numbep\n",
    "    md.app = AcemdLocal()\n",
    "    md.generatorspath='./docked/generators/'\n",
    "    md.datapath='./docked/generators/'\n",
    "    md.inputpath='./docked/generators/'\n",
    "    md.dryrun = False \n",
    "    md.metricsel1 = 'name CA'\n",
    "    md.metricsel2 = 'resname MOL and noh'\n",
    "    md.metrictype = 'contacts'\n",
    "    md.ticadim = dimtica\n",
    "    md.updateperiod = sleeping\n",
    "    md.run()"
   ]
  },
  {
   "cell_type": "markdown",
   "metadata": {},
   "source": [
    "Once your epochs are generated, we can analyse the interaction between the ligands and the protein."
   ]
  },
  {
   "cell_type": "code",
   "execution_count": null,
   "metadata": {
    "collapsed": true
   },
   "outputs": [],
   "source": [
    "#sims = simlist(glob('input/*/'), glob('input/*/structure.pdb'))\n",
    "#fsims = simfilter(sims, './filtered/', filtersel='not water')\n",
    "sims = simlist(glob('./filtered/*/'), './filtered/filtered.pdb')"
   ]
  },
  {
   "cell_type": "markdown",
   "metadata": {},
   "source": [
    "In order to build a Markov Model we need to work on a lower dimensional space, we use the binary contact map between alpha carbons and the ligand. (?) el tutorial dice otra cosa, pero me da que está mal: https://www.htmd.org/docs/htmd.projections.metricdistance.html?highlight=metricdistance "
   ]
  },
  {
   "cell_type": "code",
   "execution_count": null,
   "metadata": {
    "collapsed": true
   },
   "outputs": [],
   "source": [
    "metr = Metric(sims)\n",
    "metr.projection(MetricDistance('protein and name CA', 'resname MOL and noh', metric='contacts'))\n",
    "data = metr.project()\n",
    "data.fstep = 0.1"
   ]
  },
  {
   "cell_type": "markdown",
   "metadata": {},
   "source": [
    "We visualize now the length of the trajectories to see if they are equal. The trajectories that are not equal to the mode are eliminated because, probably, they are corrupted."
   ]
  },
  {
   "cell_type": "code",
   "execution_count": null,
   "metadata": {
    "collapsed": true
   },
   "outputs": [],
   "source": [
    "data.plotTrajSizes()\n",
    "data.dropTraj()"
   ]
  },
  {
   "cell_type": "markdown",
   "metadata": {},
   "source": [
    "TICA is performed to achive greater differentiation of metastable  minima."
   ]
  },
  {
   "cell_type": "code",
   "execution_count": null,
   "metadata": {
    "collapsed": true
   },
   "outputs": [],
   "source": [
    "tica = TICA(data, 10)\n",
    "dataTica = tica.project(3)"
   ]
  },
  {
   "cell_type": "code",
   "execution_count": null,
   "metadata": {
    "collapsed": true
   },
   "outputs": [],
   "source": [
    "dataBoot = dataTica.bootstrap(0.8)\n",
    "dataBoot.cluster(MiniBatchKMeans(n_clusters=1000), mergesmall=5) #try with dataTica instead of dataBoot"
   ]
  },
  {
   "cell_type": "markdown",
   "metadata": {},
   "source": [
    "Once the clustering is done, it is time to construct the markov model, to do this, an ITS plot has to be observed and see at which time lag time do timescales start converging and also, to see how many different timescales there are."
   ]
  },
  {
   "cell_type": "code",
   "execution_count": null,
   "metadata": {
    "collapsed": true
   },
   "outputs": [],
   "source": [
    "model = Model(dataBoot) #try with dataTica\n",
    "model.plotTimescales() "
   ]
  },
  {
   "cell_type": "code",
   "execution_count": null,
   "metadata": {
    "collapsed": true
   },
   "outputs": [],
   "source": [
    "model.markovModel(50, 5) "
   ]
  },
  {
   "cell_type": "code",
   "execution_count": null,
   "metadata": {
    "collapsed": true
   },
   "outputs": [],
   "source": [
    "htmd.config(viewer='vmd')\n",
    "#model.viewStates(ligand='resname MOL and noh')\n",
    "mols = model.getStates()\n",
    "print(mols)"
   ]
  },
  {
   "cell_type": "code",
   "execution_count": null,
   "metadata": {
    "collapsed": true
   },
   "outputs": [],
   "source": [
    "kin = Kinetics(mols[1], temperature=298, concentration=0.0037)\n",
    "\n",
    "r = kin.getRates()\n",
    "print(r.g0eq)"
   ]
  },
  {
   "cell_type": "code",
   "execution_count": null,
   "metadata": {
    "collapsed": true
   },
   "outputs": [],
   "source": [
    "kin.plotRates(rates=('g0eq'))"
   ]
  },
  {
   "cell_type": "code",
   "execution_count": null,
   "metadata": {
    "collapsed": true
   },
   "outputs": [],
   "source": [
    "kin.plotFluxPathways()"
   ]
  }
 ],
 "metadata": {
  "kernelspec": {
   "display_name": "Python 3",
   "language": "python",
   "name": "python3"
  },
  "language_info": {
   "codemirror_mode": {
    "name": "ipython",
    "version": 3
   },
   "file_extension": ".py",
   "mimetype": "text/x-python",
   "name": "python",
   "nbconvert_exporter": "python",
   "pygments_lexer": "ipython3",
   "version": "3.5.1"
  }
 },
 "nbformat": 4,
 "nbformat_minor": 0
}
