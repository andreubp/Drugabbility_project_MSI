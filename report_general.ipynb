{
 "cells": [
  {
   "cell_type": "markdown",
   "metadata": {},
   "source": [
    "# Druggability project"
   ]
  },
  {
   "cell_type": "markdown",
   "metadata": {},
   "source": [
    "### Andreu Bofill, Inés Sentís, Mariona Torrens, Alejandro Varela"
   ]
  },
  {
   "cell_type": "markdown",
   "metadata": {},
   "source": [
    "This project aims to provide a simple platform to detect among a set of ligands and a protein if their interaction result in a system with a free energy lower than -2 kcal/mol. This would reflect a good interaction between the ligand and the protein which is a very interesting property in a drug as, ideally, a low energy of interaction may correspond with a good drug candidate.\n"
   ]
  },
  {
   "cell_type": "code",
   "execution_count": null,
   "metadata": {
    "collapsed": true
   },
   "outputs": [],
   "source": [
    "import os\n",
    "from htmd import *\n",
    "from htmd.molecule.util import maxDistance\n",
    "from htmd.protocols.equilibration_v1 import Equilibration\n",
    "from htmd.protocols.production_v1 import Production\n",
    "from htmd.parameterize import Configuration, Parameterisation\n",
    "from natsort import natsorted\n",
    "import sys\n",
    "import argparse\n",
    "import random"
   ]
  },
  {
   "cell_type": "markdown",
   "metadata": {},
   "source": [
    "As this program must be executed from command line some arguments should be specified. There are two options: or pass to the program just the protein pdb file and the ligand mol2 file or pass the program all the files of the parameterization of the ligand. In case there is a missing file an exeption will show up. In  the first case, you have to use --mol2 option to indicate the path to the ligand file and --prot plus the path to the protein pdb as it is showed below. Make sure that in the file`parameters.config` you indicate the correct molecular charge in the netcharge field.   \n",
    "\n",
    "For example:"
   ]
  },
  {
   "cell_type": "code",
   "execution_count": null,
   "metadata": {
    "collapsed": true
   },
   "outputs": [],
   "source": [
    "$python3 SimulationModule.py --prot bentryp/trypsin.pdb --mol2 benzamidine.mol2"
   ]
  },
  {
   "cell_type": "markdown",
   "metadata": {},
   "source": [
    "However, if you already have the topology(rtf) and parameter's (prm) files from the ligand you can pass them as arguments to the python program using the options --rtf and --prm  plus --ligand and the path to the corresponding files:"
   ]
  },
  {
   "cell_type": "code",
   "execution_count": null,
   "metadata": {
    "collapsed": false
   },
   "outputs": [],
   "source": [
    "$python3 SimulationModule.py --prot bentryp/trypsin.pdb --ligand bentryp/benzamidine.pdb \n",
    "    --rtf bentryp/benzamidine.rtf -prm bentryp/benzamidine.prm`   "
   ]
  },
  {
   "cell_type": "markdown",
   "metadata": {},
   "source": [
    "   "
   ]
  },
  {
   "cell_type": "code",
   "execution_count": null,
   "metadata": {
    "collapsed": true
   },
   "outputs": [],
   "source": [
    "parser = argparse.ArgumentParser(description=\"Druggability Project\")\n",
    "parser.add_argument('-l', '--ligand',\n",
    "dest='ligand',\n",
    "action='store',\n",
    "default=None,\n",
    "required=False,\n",
    "help='Ligand path')"
   ]
  },
  {
   "cell_type": "code",
   "execution_count": null,
   "metadata": {
    "collapsed": true
   },
   "outputs": [],
   "source": [
    "parser.add_argument('-p', '--prot',\n",
    "dest='prot',\n",
    "action='store',\n",
    "default=None,\n",
    "required=True,\n",
    "help='Protein path')"
   ]
  },
  {
   "cell_type": "code",
   "execution_count": null,
   "metadata": {
    "collapsed": true
   },
   "outputs": [],
   "source": [
    "parser.add_argument('-rtf', '--rtf',\n",
    "dest='rtf',\n",
    "action='store',\n",
    "default=None,\n",
    "required=False,\n",
    "help='rtf path')"
   ]
  },
  {
   "cell_type": "code",
   "execution_count": null,
   "metadata": {
    "collapsed": true
   },
   "outputs": [],
   "source": [
    "parser.add_argument('-prm', '--prm',\n",
    "dest='params',\n",
    "action='store',\n",
    "default=None,\n",
    "required=False,\n",
    "help='Params path')"
   ]
  },
  {
   "cell_type": "code",
   "execution_count": null,
   "metadata": {
    "collapsed": true
   },
   "outputs": [],
   "source": [
    "parser.add_argument('-c', '--config',\n",
    "dest='config',\n",
    "action='store',\n",
    "default='./parameters.config',\n",
    "required=False,\n",
    "help='Parameters configuration file')"
   ]
  },
  {
   "cell_type": "code",
   "execution_count": null,
   "metadata": {
    "collapsed": true
   },
   "outputs": [],
   "source": [
    "parser.add_argument('-mol2', '--mol2',\n",
    "dest='mol2',\n",
    "action='store',\n",
    "default=None,\n",
    "required=False,\n",
    "help='mol2 file to generate rtf and prm files')\n",
    "\n",
    "args = parser.parse_args()"
   ]
  },
  {
   "cell_type": "code",
   "execution_count": null,
   "metadata": {
    "collapsed": true
   },
   "outputs": [],
   "source": [
    "def check_arguments():\n",
    "    if not args.prot:\n",
    "        sys.stderr.write(\"Error: You forget to put the protein file path\\n\")\n",
    "        exit(1)\n",
    "    if args.ligand:\n",
    "        if args.params and args.rtf:\n",
    "            if args.mol2:\n",
    "                sys.stderr.write(\"Error: You Introduce both options: mol2 and pdb,rtf,prm files.\\ \n",
    "                                 Choose only one option\\n\")\n",
    "                exit(1)\n",
    "            ligand_path = args.ligand\n",
    "            rtf_path = args.rtf\n",
    "            params_path = args.params\n",
    "        else:\n",
    "            sys.stderr.write(\"Error: You introduce a ligand pdb file, but rtf and prm files are missing.\\\n",
    "            Introduce them with -rtf and -prm input options \\n\")\n",
    "    if not args.ligand or not args.params or not args.rtf:\n",
    "        if not args.mol2:\n",
    "            sys.stderr.write(\"You need to introduce one ligand input options: a mol2 file, or  pdb,rtf and prm files.\\n\")\n",
    "            exit(1)\n",
    "        if args.mol2:\n",
    "            (ligand_path,rtf_path,params_path)=parameter(args.mol2, netcharge)\n",
    "    return(ligand_path,rtf_path,params_path)"
   ]
  },
  {
   "cell_type": "code",
   "execution_count": null,
   "metadata": {
    "collapsed": true
   },
   "outputs": [],
   "source": [
    "def parse_config (config_file):\n",
    "    op_config = open(config_file, \"r\")\n",
    "    for line in op_config:\n",
    "        if line.startswith(\"nbuilds\"):\n",
    "            nbuilds = line.split(\"\\t\")[1].strip()\n",
    "        if line.startswith(\"minsim\"):\n",
    "            minsim = line.split(\"\\t\")[1].strip()\n",
    "        if line.startswith(\"maxsim\"):\n",
    "            maxsim = line.split(\"\\t\")[1].strip()\n",
    "        if line.startswith(\"run_time\"):\n",
    "            run_time = line.split(\"\\t\")[1].strip()\n",
    "        if line.startswith(\"numbep\"):\n",
    "            numbep = line.split(\"\\t\")[1].strip()\n",
    "        if line.startswith(\"dimtica\"):\n",
    "            dimtica = line.split(\"\\t\")[1].strip()\n",
    "        if line.startswith(\"sleeping\"):\n",
    "            sleeping = line.split(\"\\t\")[1].strip()\n",
    "        if line.startswith(\"netcharge\"):\n",
    "            netcharge = line.split(\"\\t\")[1].strip()\n",
    "            print(netcharge)\n",
    "    return(nbuilds, run_time, minsim, maxsim, numbep, dimtica, sleeping, netcharge)"
   ]
  },
  {
   "cell_type": "markdown",
   "metadata": {},
   "source": [
    "The function *parameter* would be executed just in case the parametrization files of the ligand were not specified at the beginning. This process is really computationally demanding and depends on the number of atoms of the molecule being parameterized. Charge of the ligand must also be specified.\n"
   ]
  },
  {
   "cell_type": "code",
   "execution_count": null,
   "metadata": {
    "collapsed": true
   },
   "outputs": [],
   "source": [
    "def parameter(mol2, netcharge):\n",
    "    molec = Molecule(mol2)\n",
    "    config = Configuration()\n",
    "    config.FileName = mol2\n",
    "    molec_name = str(mol2)\n",
    "    molec_name = molec_name.split(\".\")[0]\n",
    "    config.JobName = molec_name.split(\"/\")[-1]+str(random.randint(1,1000))\n",
    "    config.NetCharge = netcharge\n",
    "    param = Parameterisation(config=config)\n",
    "    paramfiles = param.getParameters()\n",
    "    shutil.copyfile(paramfiles['RTF'], molec_name+\".rtf\")\n",
    "    shutil.copyfile(paramfiles['PRM'], molec_name+\".prm\")\n",
    "    shutil.copyfile(paramfiles['PDB'], molec_name+\".pdb\")\n",
    "    ligand_path = molec_name+\".pdb\"\n",
    "    params_path = molec_name+\".prm\"\n",
    "    rtf_path = molec_name+\".rtf\"\n",
    "    return(ligand_path, params_path, rtf_path)\n"
   ]
  },
  {
   "cell_type": "markdown",
   "metadata": {},
   "source": [
    "Once we have the ligand parameterized, this platform initializes the system by doing a docking between the ligand and the protein using the *dock* function of HTMD. The top 5 poses are used to build the systems, each pose is built independently. The point of starting with docked position is that it ensures a good starting point to run a simulation and saves time and computer resources."
   ]
  },
  {
   "cell_type": "code",
   "execution_count": null,
   "metadata": {
    "collapsed": true
   },
   "outputs": [],
   "source": [
    "def dockinit(protein_path, ligand_path):\n",
    "    prot = Molecule(protein_path)\n",
    "    prot.filter('protein or water or resname CA')\n",
    "    prot.set('segid', 'P', sel='protein and noh')\n",
    "    prot.set('segid', 'W', sel='water')\n",
    "    prot.set('segid', 'CA', sel='resname CA')\n",
    "    D = maxDistance(prot, 'all')\n",
    "    D = D + 15\n",
    "    prot.center()\n",
    "    lig = Molecule(ligand_path)\n",
    "    poses, scores = dock(prot, lig)\n",
    "    return (prot, poses, D)"
   ]
  },
  {
   "cell_type": "markdown",
   "metadata": {},
   "source": [
    "Each of the five different poses are solvated and a salt concentration of 0.15  is added as we have seen in the HTMD documentation."
   ]
  },
  {
   "cell_type": "code",
   "execution_count": null,
   "metadata": {
    "collapsed": true
   },
   "outputs": [],
   "source": [
    "def building(prot,poses,D,path_ligand_rtf,path_ligand_prm,nbuilds=4):\n",
    "    moltbuilt=[]\n",
    "    for i, p in enumerate(poses):\n",
    "        ligand = p\n",
    "        ligand.set('segid','L')\n",
    "        ligand.set('resname','MOL')\n",
    "        mol = Molecule(name='combo')\n",
    "        mol.append(prot)\n",
    "        mol.append(ligand)\n",
    "\n",
    "        smol = solvate(mol, minmax=[[-D, -D, -D], [D, D, D]])\n",
    "        topos  = ['top/top_all22star_prot.rtf', 'top/top_water_ions.rtf',path_ligand_rtf] #'./ethtryp/ethanol.rtf'\n",
    "        params = ['par/par_all22star_prot.prm', 'par/par_water_ions.prm', path_ligand_prm] #'./ethtryp/ethanol.prm'\n",
    "\n",
    "        moltbuilt.append(charmm.build(smol, topo=topos, param=params, outdir='./docked/build/{}/'.format(i+1), \n",
    "                                      saltconc=0.15))\n",
    "        if i==nbuilds:\n",
    "            break"
   ]
  },
  {
   "cell_type": "markdown",
   "metadata": {},
   "source": [
    "After this, an equilibration protocol is performed over each system. This allows us to stablish a temperature of 298 Kelvin on each system using 1000 time steps."
   ]
  },
  {
   "cell_type": "code",
   "execution_count": null,
   "metadata": {
    "collapsed": true
   },
   "outputs": [],
   "source": [
    "def Equilibrate():\n",
    "    md = Equilibration()\n",
    "    md.numsteps = 1000\n",
    "    md.temperature = 298\n",
    "    builds=natsorted(glob('docked/build/*/'))\n",
    "    for i,b in enumerate(builds):\n",
    "        md.write(b,'docked/equil/{}/'.format(i+1))\n",
    "    mdx = AcemdLocal()\n",
    "    mdx.submit(glob('./docked/equil/*/'))\n",
    "    mdx.wait()"
   ]
  },
  {
   "cell_type": "markdown",
   "metadata": {},
   "source": [
    "The already equilibrated systems enter the production step where trajectories for each system are created using the Newton equations of motion. In this step, a 'generators' directory is created. It will contain 5 folders (as we have stablished by default) with a one simulation each. The generators are only used in the first epoch. "
   ]
  },
  {
   "cell_type": "code",
   "execution_count": null,
   "metadata": {
    "collapsed": true
   },
   "outputs": [],
   "source": [
    "def Produce(run_time=50):\n",
    "    equils=natsorted(glob('docked/equil/*/'))\n",
    "    for i,b in enumerate(equils):\n",
    "        md= Production()\n",
    "        md.acemd.bincoordinates = 'output.coor'\n",
    "        md.acemd.extendedsystem  = 'output.xsc'\n",
    "        md.acemd.binvelocities=None\n",
    "        md.acemd.binindex=None\n",
    "        md.acemd.run=str(run_time)+'ns'\n",
    "        md.temperature = 300\n",
    "        equils=natsorted(glob('docked/equil/*/'))\n",
    "        md.write('./docked/equil/{}/'.format(i+1), 'docked/generators/{}/'.format(i+1))\n",
    "\n",
    "    mdx = AcemdLocal()\n",
    "    mdx.submit(glob('./docked/generators/*/'))\n",
    "    mdx.wait()"
   ]
  },
  {
   "cell_type": "markdown",
   "metadata": {},
   "source": [
    "Finally, we run adaptive to generate the trajectories which will eventually be used for the ligand binding analysis. A folder called 'filtered' will be created in the working directory which will contain the filtered trajectories (without water). The point of doing adaptative is to accelerate the simulation proccess by selecting those results that represent an advanced position to avoid repetition from the beginning and explore more space. "
   ]
  },
  {
   "cell_type": "code",
   "execution_count": null,
   "metadata": {
    "collapsed": true
   },
   "outputs": [],
   "source": [
    "def adaptive(minsim=6,maxsim=8,numbep=12,dimtica=3,sleeping=14400):\n",
    "    md = AdaptiveRun()\n",
    "    md.nmin=minsim\n",
    "    md.nmax=maxsim\n",
    "    md.nepochs = numbep\n",
    "    md.app = AcemdLocal()\n",
    "    md.generatorspath='./docked/generators/'\n",
    "    md.datapath='./docked/generators/'\n",
    "    md.inputpath='./docked/generators/'\n",
    "    md.dryrun = False\n",
    "    md.metricsel1 = 'name CA'\n",
    "    md.metricsel2 = 'resname MOL and noh'\n",
    "    md.metrictype = 'contacts'\n",
    "    md.ticadim = dimtica\n",
    "    md.updateperiod = sleeping\n",
    "    md.run()"
   ]
  },
  {
   "cell_type": "code",
   "execution_count": null,
   "metadata": {
    "collapsed": true
   },
   "outputs": [],
   "source": []
  },
  {
   "cell_type": "markdown",
   "metadata": {},
   "source": [
    "## Analysis of the results:\n",
    "\n",
    "Once your epochs are generated, we can analyse the interaction between the ligands and the protein. This part of the program, which you can find at the file *Analysis.ipynb*, needs to be run from *jupyter notebook*, otherwise we wouldn't be able to visualize some plots which are important for our analysis.   "
   ]
  },
  {
   "cell_type": "markdown",
   "metadata": {
    "collapsed": true
   },
   "source": [
    "Fisrt of all, we obtain a simulation list from our trajectories, created at the previous stage of the progran."
   ]
  },
  {
   "cell_type": "code",
   "execution_count": null,
   "metadata": {
    "collapsed": false
   },
   "outputs": [],
   "source": [
    "sims = simlist(glob('./filtered/*/'), './filtered/filtered.pdb')"
   ]
  },
  {
   "cell_type": "markdown",
   "metadata": {},
   "source": [
    "To build a Markov state model we need to project the atom coordinates onto a lower dimensional space, which can be used for clustering the conformations into a set of states. To do this, we use a binary contact map between the carbon alpha atoms of the protein and the ligand."
   ]
  },
  {
   "cell_type": "code",
   "execution_count": null,
   "metadata": {
    "collapsed": true
   },
   "outputs": [],
   "source": [
    "metr = Metric(sims)\n",
    "metr.projection(MetricDistance('protein and name CA', 'resname MOL and noh', metric='contacts'))\n",
    "data = metr.project()"
   ]
  },
  {
   "cell_type": "markdown",
   "metadata": {},
   "source": [
    "We define which is the frame-step, in nanoseconds."
   ]
  },
  {
   "cell_type": "code",
   "execution_count": null,
   "metadata": {
    "collapsed": true
   },
   "outputs": [],
   "source": [
    "data.fstep = 0.1"
   ]
  },
  {
   "cell_type": "markdown",
   "metadata": {},
   "source": [
    "We visualize now the length of the trajectories to see if they are equal. The trajectories that are not equal to the mode are eliminated because, probably, they are corrupted."
   ]
  },
  {
   "cell_type": "code",
   "execution_count": null,
   "metadata": {
    "collapsed": true
   },
   "outputs": [],
   "source": [
    "data.plotTrajSizes()\n",
    "data.dropTraj()"
   ]
  },
  {
   "cell_type": "markdown",
   "metadata": {},
   "source": [
    "TICA is performed to achive greater differentiation of metastable  minima."
   ]
  },
  {
   "cell_type": "code",
   "execution_count": null,
   "metadata": {
    "collapsed": true
   },
   "outputs": [],
   "source": [
    "tica = TICA(data, 10)\n",
    "dataTica = tica.project(3)"
   ]
  },
  {
   "cell_type": "markdown",
   "metadata": {},
   "source": [
    "We apply bootstrap. Then, we cluster the conformations: we produce 1000 clusters, clusters containinf less than 5 conformations will be merged into the next neighbour."
   ]
  },
  {
   "cell_type": "code",
   "execution_count": null,
   "metadata": {
    "collapsed": true
   },
   "outputs": [],
   "source": [
    "dataBoot = dataTica.bootstrap(0.8)\n",
    "dataBoot.cluster(MiniBatchKMeans(n_clusters=1000), mergesmall=5) #try with dataTica instead of dataBoot"
   ]
  },
  {
   "cell_type": "markdown",
   "metadata": {},
   "source": [
    "Once the clustering is done, it is time to construct the markov model. To do this, an ITS plot has to be observed and see at which time lag time do timescales start converging and also, to see how many different timescales there are."
   ]
  },
  {
   "cell_type": "code",
   "execution_count": null,
   "metadata": {
    "collapsed": true
   },
   "outputs": [],
   "source": [
    "model = Model(dataBoot)\n",
    "model.plotTimescales() "
   ]
  },
  {
   "cell_type": "markdown",
   "metadata": {},
   "source": [
    "According to the ITS plot, we choose the lag-time and the numer if macrostate. In this example, we set these values to 50 and 5, respectively."
   ]
  },
  {
   "cell_type": "code",
   "execution_count": null,
   "metadata": {
    "collapsed": true
   },
   "outputs": [],
   "source": [
    "model.markovModel(50, 5) "
   ]
  },
  {
   "cell_type": "markdown",
   "metadata": {},
   "source": [
    "Now we will visualize the states: we load the 3 macrostates and add a ligand representation."
   ]
  },
  {
   "cell_type": "code",
   "execution_count": null,
   "metadata": {
    "collapsed": true
   },
   "outputs": [],
   "source": [
    "htmd.config(viewer='vmd')\n",
    "model.viewStates(ligand='resname MOL and noh')\n",
    "mols = model.getStates()\n",
    "print(mols)"
   ]
  },
  {
   "cell_type": "markdown",
   "metadata": {},
   "source": [
    "Each state is a bunch of binding poses (conformations) which were given by the HMM, which said that they were kinetically different."
   ]
  },
  {
   "cell_type": "markdown",
   "metadata": {},
   "source": [
    "Now we want to obtain quantitative results about the kinetics between states. We use the Kinetics constructor, where we indicate the system temperature and ligand concentration."
   ]
  },
  {
   "cell_type": "code",
   "execution_count": null,
   "metadata": {
    "collapsed": true
   },
   "outputs": [],
   "source": [
    "kin = Kinetics(mols[1], temperature=298, concentration=0.0037)\n",
    "\n",
    "r = kin.getRates()\n",
    "print(r.g0eq)"
   ]
  },
  {
   "cell_type": "markdown",
   "metadata": {},
   "source": [
    "We plot the free energies and mean first passage times of all state:"
   ]
  },
  {
   "cell_type": "code",
   "execution_count": null,
   "metadata": {
    "collapsed": true
   },
   "outputs": [],
   "source": [
    "kin.plotRates(rates=('g0eq'))"
   ]
  },
  {
   "cell_type": "code",
   "execution_count": null,
   "metadata": {
    "collapsed": true
   },
   "outputs": [],
   "source": [
    "kin.plotFluxPathways()"
   ]
  }
 ],
 "metadata": {
  "kernelspec": {
   "display_name": "Python 3",
   "language": "python",
   "name": "python3"
  },
  "language_info": {
   "codemirror_mode": {
    "name": "ipython",
    "version": 3
   },
   "file_extension": ".py",
   "mimetype": "text/x-python",
   "name": "python",
   "nbconvert_exporter": "python",
   "pygments_lexer": "ipython3",
   "version": "3.5.1"
  }
 },
 "nbformat": 4,
 "nbformat_minor": 0
}
