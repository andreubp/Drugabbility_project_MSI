{
 "cells": [
  {
   "cell_type": "markdown",
   "metadata": {},
   "source": [
    "# Druggability project"
   ]
  },
  {
   "cell_type": "markdown",
   "metadata": {},
   "source": [
    "### Andreu Bofill, Inés Sentís, Mariona Torrens, Alejandro Varela"
   ]
  },
  {
   "cell_type": "markdown",
   "metadata": {},
   "source": [
    "This project aims to provide a simple platform to detect among a set of ligands and a protein if their interaction result in a system with a free energy lower than -2 kcal/mol. This would reflect a good interaction between the ligand and the protein which is a very interesting property in a drug as, ideally, a low energy of interaction may correspond with a good drug candidate.\n"
   ]
  },
  {
   "cell_type": "code",
   "execution_count": null,
   "metadata": {
    "collapsed": true
   },
   "outputs": [],
   "source": [
    "import os\n",
    "from htmd import *\n",
    "from htmd.molecule.util import maxDistance\n",
    "from htmd.protocols.equilibration_v1 import Equilibration\n",
    "from htmd.protocols.production_v1 import Production\n",
    "from htmd.parameterize import Configuration, Parameterisation\n",
    "from natsort import natsorted\n",
    "import sys\n",
    "import argparse\n",
    "import random"
   ]
  },
  {
   "cell_type": "markdown",
   "metadata": {},
   "source": [
    "As this program must be executed from command line some arguments can be specified. First of all, the pdb file of the protein and the mol2 file of the ligand are mandatory in order to execute the program. However, if you already have the topology and parameter's files from the ligand you can pass them as arguments to the python program using the options --prm and --rtf  and -- ligand and the path to the corresponding files. See below: "
   ]
  },
  {
   "cell_type": "code",
   "execution_count": null,
   "metadata": {
    "collapsed": true
   },
   "outputs": [],
   "source": [
    "parser = argparse.ArgumentParser(description=\"Druggability Project\")\n",
    "parser.add_argument('-l', '--ligand',\n",
    "dest='ligand',\n",
    "action='store',\n",
    "default=None,\n",
    "required=False,\n",
    "help='Ligand path')"
   ]
  },
  {
   "cell_type": "code",
   "execution_count": null,
   "metadata": {
    "collapsed": true
   },
   "outputs": [],
   "source": [
    "parser.add_argument('-p', '--prot',\n",
    "dest='prot',\n",
    "action='store',\n",
    "default=None,\n",
    "required=True,\n",
    "help='Protein path')"
   ]
  },
  {
   "cell_type": "code",
   "execution_count": null,
   "metadata": {
    "collapsed": true
   },
   "outputs": [],
   "source": [
    "parser.add_argument('-rtf', '--rtf',\n",
    "dest='rtf',\n",
    "action='store',\n",
    "default=None,\n",
    "required=False,\n",
    "help='rtf path')"
   ]
  },
  {
   "cell_type": "code",
   "execution_count": null,
   "metadata": {
    "collapsed": true
   },
   "outputs": [],
   "source": [
    "parser.add_argument('-prm', '--prm',\n",
    "dest='params',\n",
    "action='store',\n",
    "default=None,\n",
    "required=False,\n",
    "help='Params path')"
   ]
  },
  {
   "cell_type": "code",
   "execution_count": null,
   "metadata": {
    "collapsed": true
   },
   "outputs": [],
   "source": [
    "parser.add_argument('-c', '--config',\n",
    "dest='config',\n",
    "action='store',\n",
    "default='./parameters.config',\n",
    "required=False,\n",
    "help='Parameters configuration file')"
   ]
  },
  {
   "cell_type": "code",
   "execution_count": null,
   "metadata": {
    "collapsed": true
   },
   "outputs": [],
   "source": [
    "parser.add_argument('-mol2', '--mol2',\n",
    "dest='mol2',\n",
    "action='store',\n",
    "default=None,\n",
    "required=False,\n",
    "help='mol2 file to generate rtf and prm files')\n",
    "\n",
    "args = parser.parse_args()"
   ]
  },
  {
   "cell_type": "markdown",
   "metadata": {},
   "source": [
    "Therefore, there are only two options: or pass to the program just the protein pdb file and the ligand mol2 file or pass the program all the files of the parametrization of the ligand. In case there is a missing file an exeption will show up."
   ]
  },
  {
   "cell_type": "code",
   "execution_count": null,
   "metadata": {
    "collapsed": true
   },
   "outputs": [],
   "source": [
    "def check_arguments():\n",
    "    if not args.prot:\n",
    "        sys.stderr.write(\"Error: You forget to put the protein file path\")\n",
    "        exit(1)\n",
    "\n",
    "    if not args.ligand or not args.params or not args.:\n",
    "        sys.stderr.write(\"Error: You forget to put the ligand file path\")\n",
    "        exit(1)\n"
   ]
  },
  {
   "cell_type": "code",
   "execution_count": null,
   "metadata": {
    "collapsed": true
   },
   "outputs": [],
   "source": [
    "def parse_config (config_file):\n",
    "    op_config = open(config_file, \"r\")\n",
    "    for line in op_config:\n",
    "        if line.startswith(\"nbuilds\"):\n",
    "            nbuilds = line.split(\"\\t\")[1].strip()\n",
    "        if line.startswith(\"minsim\"):\n",
    "            minsim = line.split(\"\\t\")[1].strip()\n",
    "        if line.startswith(\"maxsim\"):\n",
    "            maxsim = line.split(\"\\t\")[1].strip()\n",
    "        if line.startswith(\"run_time\"):\n",
    "            run_time = line.split(\"\\t\")[1].strip()\n",
    "        if line.startswith(\"numbep\"):\n",
    "            numbep = line.split(\"\\t\")[1].strip()\n",
    "        if line.startswith(\"dimtica\"):\n",
    "            dimtica = line.split(\"\\t\")[1].strip()\n",
    "        if line.startswith(\"sleeping\"):\n",
    "            sleeping = line.split(\"\\t\")[1].strip()\n",
    "        if line.startswith(\"NetCharge\"):\n",
    "            netcharge = line.split(\"\\t\")[1].strip() \n",
    "    return(nbuilds, run_time, minsim, maxsim, numbep, dimtica, sleeping, netcharge)\n"
   ]
  },
  {
   "cell_type": "markdown",
   "metadata": {},
   "source": [
    "The function *parameter* would be executed just in case the parametrization files of the ligand were not specified at the beginning. This process is really computationally demanding and depends on the number of atoms of the molecule being parameterized. Charge of the ligand must also be specified.\n"
   ]
  },
  {
   "cell_type": "code",
   "execution_count": null,
   "metadata": {
    "collapsed": true
   },
   "outputs": [],
   "source": [
    "def parameter(mol2, netcharge):\n",
    "    if not args.rtf or not args.params:\n",
    "        molec = Molecule(mol2)\n",
    "        config = Configuration()\n",
    "        config.FileName = mol2\n",
    "        molec_name = (input_name(mol2)[0])\n",
    "        config.JobName = molec_name+random.randint(1,1000)\n",
    "        config.NetCharge = netcharge\n",
    "        param = Parameterisation(config=config)\n",
    "        paramfiles = param.getParameters()\n",
    "        shutil.copyfile(paramfiles['RTF'], molec_name+\".rtf\")\n",
    "        shutil.copyfile(paramfiles['PRM'], molec_name+\".prm\")\n",
    "        shutil.copyfile(paramfiles['PDB'], molec_name+\".pdb\")\n",
    "        pdb_path = molec_name+\".pdb\"\n",
    "        prm_path = molec_name+\".prm\"\n",
    "        rtf_path = molec_name+\".rtf\"\n",
    "        return(pdb_path, prm_path, rtf_path)"
   ]
  },
  {
   "cell_type": "markdown",
   "metadata": {},
   "source": [
    "Once we have the ligand parametrized, this platform initializes the system by doing a docking between the ligand and the protein using the *dock* function of HTMD. The top 5 poses are used to build the systems, each pose is built independently. The point of starting with docked position is that it ensures a good starting point to run a simulation and saves time and computer resources."
   ]
  },
  {
   "cell_type": "code",
   "execution_count": null,
   "metadata": {
    "collapsed": true
   },
   "outputs": [],
   "source": [
    "def dockinit(pdbpath,ligandpath):\n",
    "    prot = Molecule(pdbpath) #'ethtryp/trypsin.pdb'\n",
    "    prot.filter('protein or water or resname CA') #before it said chain A and (...)\n",
    "    prot.set('segid', 'P', sel='protein and noh')\n",
    "    prot.set('segid', 'W', sel='water')\n",
    "    prot.set('segid', 'CA', sel='resname CA')\n",
    "    D = maxDistance(prot, 'all')\n",
    "    D = D + 15\n",
    "    prot.center()\n",
    "    lig = Molecule(ligandpath) #'ethtryp/ethanol.pdb'\n",
    "    print(lig,prot)\n",
    "    poses, scores = dock(prot, lig)\n",
    "    return(poses)"
   ]
  },
  {
   "cell_type": "markdown",
   "metadata": {},
   "source": [
    "Each of the five different poses are solvated and a salt concentration of 0.15  is added, to simulate cell conditions."
   ]
  },
  {
   "cell_type": "code",
   "execution_count": null,
   "metadata": {
    "collapsed": true
   },
   "outputs": [],
   "source": [
    "def building(poses,path_ligand_rtf,path_ligand_prm,nbuilds=4):\n",
    "    moltbuilt=[]\n",
    "    for i, p in enumerate(poses):\n",
    "        ligand = p\n",
    "        ligand.set('segid','L')\n",
    "        ligand.set('resname','MOL')\n",
    "        mol = Molecule(name='combo')\n",
    "        mol.append(prot)\n",
    "        mol.append(ligand)\n",
    "\n",
    "        smol = solvate(mol, minmax=[[-D, -D, -D], [D, D, D]])\n",
    "        topos  = ['top/top_all22star_prot.rtf', 'top/top_water_ions.rtf',path_ligand_rtf] #'./ethtryp/ethanol.rtf'\n",
    "        params = ['par/par_all22star_prot.prm', 'par/par_water_ions.prm', path_ligand_prm] #'./ethtryp/ethanol.prm'\n",
    "\n",
    "        moltbuilt.append(charmm.build(smol, topo=topos, param=params, outdir='./docked/build/{}/'.format(i+1), saltconc=0.15))\n",
    "        if i==nbuilds:\n",
    "            break"
   ]
  },
  {
   "cell_type": "markdown",
   "metadata": {},
   "source": [
    "After this, an equilibration protocol is performed over each system. This allows us to stablish a temperature of 298 Kelvin on each system using 1000 time steps."
   ]
  },
  {
   "cell_type": "code",
   "execution_count": null,
   "metadata": {
    "collapsed": true
   },
   "outputs": [],
   "source": [
    "def Equilibrate():\n",
    "    md = Equilibration()\n",
    "    md.numsteps = 1000\n",
    "    md.temperature = 298\n",
    "    builds=natsorted(glob('docked/build/*/'))\n",
    "    for i,b in enumerate(builds):\n",
    "        md.write(b,'docked/equil/{}/'.format(i+1))\n",
    "    mdx = AcemdLocal()\n",
    "    mdx.submit(glob('./docked/equil/*/'))\n",
    "    mdx.wait()"
   ]
  },
  {
   "cell_type": "markdown",
   "metadata": {},
   "source": [
    "The already equilibrated systems enter the production step where trajectories for each system are created using the Newton equations of motion."
   ]
  },
  {
   "cell_type": "code",
   "execution_count": null,
   "metadata": {
    "collapsed": true
   },
   "outputs": [],
   "source": [
    "def Produce(run_time=50):\n",
    "    equils=natsorted(glob('docked/equil/*/'))\n",
    "    for i,b in enumerate(equils):\n",
    "        md= Production()\n",
    "        md.acemd.bincoordinates = 'output.coor'\n",
    "        md.acemd.extendedsystem  = 'output.xsc'\n",
    "        md.acemd.binvelocities=None\n",
    "        md.acemd.binindex=None\n",
    "        md.acemd.run=str(run_time)+'ns'\n",
    "        md.temperature = 300\n",
    "        equils=natsorted(glob('docked/equil/*/'))\n",
    "        md.write('./docked/equil/{}/'.format(i+1), 'docked/generators/{}/'.format(i+1))\n",
    "\n",
    "    mdx = AcemdLocal()\n",
    "    mdx.submit(glob('./docked/generators/*/'))\n",
    "    mdx.wait()"
   ]
  },
  {
   "cell_type": "markdown",
   "metadata": {},
   "source": [
    "Finally, we run adaptive to generate the epochs which will finally be used for the ligand binding analysis. A folder called 'filtered' will be created in the working directory which will contain the filtered trajectories for all the epochs. The point of doing adaptative is to accelerate the simulation proccess by selecting those results that represent an advanced position to avoid repetition from the beginning."
   ]
  },
  {
   "cell_type": "code",
   "execution_count": null,
   "metadata": {
    "collapsed": true
   },
   "outputs": [],
   "source": [
    "def adaptive(minsim=6,maxsim=8,numbep=12,dimtica=3,sleeping=14400):\n",
    "    md = AdaptiveRun()\n",
    "    md.nmin=minsim\n",
    "    md.nmax=maxsim\n",
    "    md.nepochs = numbep\n",
    "    md.app = AcemdLocal()\n",
    "    md.generatorspath='./docked/generators/'\n",
    "    md.datapath='./docked/generators/'\n",
    "    md.inputpath='./docked/generators/'\n",
    "    md.dryrun = False \n",
    "    md.metricsel1 = 'name CA'\n",
    "    md.metricsel2 = 'resname MOL and noh'\n",
    "    md.metrictype = 'contacts'\n",
    "    md.ticadim = dimtica\n",
    "    md.updateperiod = sleeping\n",
    "    md.run()"
   ]
  },
  {
   "cell_type": "markdown",
   "metadata": {},
   "source": [
    "## Analysis of the results:\n",
    "\n",
    "Once your epochs are generated, we can analyse the interaction between the ligands and the protein."
   ]
  },
  {
   "cell_type": "code",
   "execution_count": null,
   "metadata": {
    "collapsed": true
   },
   "outputs": [],
   "source": [
    "def analysis(boot=0.8,clusters=1000,merge=5):\n",
    "    sims = simlist(glob('./filtered/*/'), './filtered/filtered.pdb')\n",
    "    metr = Metric(sims)\n",
    "    metr.projection(MetricDistance('protein and name CA', 'resname MOL and noh', metric='contacts'))\n",
    "    data = metr.project()\n",
    "    data.fstep = 0.1\n",
    "    data.plotTrajSizes() #visualize the length of the trajectories.\n",
    "    data.dropTraj() #Discard trajectories not equal to the length mode.\n",
    "    tica = TICA(data, 10) #TICA is performed to achive greater differentiation of metastable minima.\n",
    "    dataTica = tica.project(3)\n",
    "    dataBoot = dataTica.bootstrap(0.8)\n",
    "    dataBoot.cluster(MiniBatchKMeans(n_clusters=1000), mergesmall=5) #try with dataTica instead of dataBoot\n",
    "    model = Model(dataBoot) #try with dataTica\n",
    "    model.plotTimescales() \n",
    "    #ITS plot has to be observed to see at which time lag do timescales start converging\n",
    "    #and also, to see how many different timescales there are.\n",
    "    nframes=input('At which time do time scales converge?')\n",
    "    ntimescales=input('How many different time scales do you see?')\n",
    "    model.markovModel(int(nframes)*10, int(ntimescales)) \n",
    "    mols = model.getStates() #get the molecule objects corresponding to the macrostates\n",
    "\n",
    "    kin = Kinetics(model, temperature=298, concentration=0.0037)\n",
    "    goodmacros=dict() #save macros with a energy lower than -2 kcal/mol\n",
    "    mols = model.getStates()\n",
    "    for i in range(len(mols)):\n",
    "        for j in range(len(mols)):\n",
    "            r = kin.getRates(i,j) #calculate the energy for each possible combination\n",
    "            if r.g0eq < -2:\n",
    "                try:\n",
    "                    goodmacros[i].append(j) #append all macrostates that are under the threshold to a given reference(sink)\n",
    "                except:\n",
    "                    goodmacros[i]=[j]\n",
    "    \n",
    "    curr_max_len=0\n",
    "    for keys in goodmacros:\n",
    "        if len(goodmacros[keys])>curr_max_len: #look which sink has more under-the-threshold macros.\n",
    "            curr_max_len=len(goodmacros[keys])\n",
    "            thekey=keys\n",
    "\n",
    "    retlist=list()\n",
    "    for sinks in goodmacros[thekey]:\n",
    "        retlist.append(mols[sinks]) #select the corresponding macro Molecule object \n",
    "    sys.stderr.write('These models contain the best interactions/poses: \\n %s' %(retlist)\n",
    "\n",
    "    kin.plotRates(rates=('g0eq'))\n",
    "    kin.plotFluxPathways()\n",
    "    return retlist"
   ]
  }
 ],
 "metadata": {
  "kernelspec": {
   "display_name": "Python 3",
   "language": "python",
   "name": "python3"
  },
  "language_info": {
   "codemirror_mode": {
    "name": "ipython",
    "version": 3
   },
   "file_extension": ".py",
   "mimetype": "text/x-python",
   "name": "python",
   "nbconvert_exporter": "python",
   "pygments_lexer": "ipython3",
   "version": "3.5.1"
  }
 },
 "nbformat": 4,
 "nbformat_minor": 0
}
