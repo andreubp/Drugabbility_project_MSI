{
 "cells": [
  {
   "cell_type": "code",
   "execution_count": 3,
   "metadata": {
    "collapsed": false
   },
   "outputs": [],
   "source": [
    "from htmd import *\n",
    "def analysis(sims,boot=0.8,clusters=1000,merge=5):\n",
    "    metr = Metric(sims)\n",
    "    metr.projection(MetricDistance('protein and name CA', 'resname MOL and noh', metric='contacts'))\n",
    "    data = metr.project()\n",
    "    data.fstep = 0.1\n",
    "    data.plotTrajSizes()\n",
    "    data.dropTraj()\n",
    "    tica = TICA(data, 10)\n",
    "    dataTica = tica.project(3)\n",
    "    dataBoot = dataTica.bootstrap(0.8)\n",
    "    dataBoot.cluster(MiniBatchKMeans(n_clusters=1000), mergesmall=5) #try with dataTica instead of dataBoot\n",
    "    model = Model(dataBoot) #try with dataTica\n",
    "    model.plotTimescales() \n",
    "\n",
    "    nframes=input('At which time do time scales converge?')\n",
    "    ntimescales=input('How many different time scales do you see?')\n",
    "    model.markovModel(int(nframes)*10, int(ntimescales)) \n",
    "    mols = model.getStates()\n",
    "\n",
    "    kin = Kinetics(model, temperature=298, concentration=0.0037)\n",
    "    goodmacros=dict()\n",
    "    mols = model.getStates()\n",
    "    for i in range(len(mols)):\n",
    "        for j in range(len(mols)):\n",
    "            r = kin.getRates(i,j)\n",
    "            if r.g0eq < -0.2:\n",
    "                try:\n",
    "                    goodmacros[i].append(j)\n",
    "                except:\n",
    "                    goodmacros[i]=[j]\n",
    "    \n",
    "    curr_max_len=0\n",
    "    for keys in goodmacros:\n",
    "        if len(goodmacros[keys])>curr_max_len:\n",
    "            curr_max_len=len(goodmacros[keys])\n",
    "            thekey=keys\n",
    "\n",
    "    retlist=list()\n",
    "    for sinks in goodmacros[thekey]:\n",
    "        retlist.append(mols[sinks])\n",
    "    sys.stderr.write('These models contain the best interactions/poses:')\n",
    "    kin.plotRates(rates=('g0eq'))\n",
    "    print(\"\\n\")\n",
    "    kin.plotFluxPathways()\n",
    "    return retlist"
   ]
  },
  {
   "cell_type": "code",
   "execution_count": 4,
   "metadata": {
    "collapsed": false
   },
   "outputs": [
    {
     "name": "stdout",
     "output_type": "stream",
     "text": [
      "Populating the interactive namespace from numpy and matplotlib\n"
     ]
    },
    {
     "name": "stderr",
     "output_type": "stream",
     "text": [
      "WARNING: pylab import has clobbered these variables: ['random']\n",
      "`%matplotlib` prevents importing * from pylab and numpy\n"
     ]
    }
   ],
   "source": [
    "%pylab inline\n",
    "all_molecules=list()\n",
    "all_dir=glob('./*/filtered/')\n",
    "for directory in all_dir:\n",
    "    try:\n",
    "        print(glob(directory+'*/'), glob(directory+'/filtered.pdb'))\n",
    "        sims = simlist(glob(directory+'*/'), glob(directory+'/filtered.pdb'))\n",
    "        all_molecules.append(analysis(sims,boot=0.5,clusters=1000,merge=5)) #0.2 makes ethanol work\n",
    "    except:\n",
    "        print('\\n\\n\\n Trajectories are to small. Starting analysis for next folder.\\n\\n\\n')\n",
    "        continue"
   ]
  },
  {
   "cell_type": "code",
   "execution_count": null,
   "metadata": {
    "collapsed": false
   },
   "outputs": [],
   "source": [
    "print(all_molecules)"
   ]
  }
 ],
 "metadata": {
  "kernelspec": {
   "display_name": "Python 3",
   "language": "python",
   "name": "python3"
  },
  "language_info": {
   "codemirror_mode": {
    "name": "ipython",
    "version": 3
   },
   "file_extension": ".py",
   "mimetype": "text/x-python",
   "name": "python",
   "nbconvert_exporter": "python",
   "pygments_lexer": "ipython3",
   "version": "3.5.1"
  }
 },
 "nbformat": 4,
 "nbformat_minor": 0
}
