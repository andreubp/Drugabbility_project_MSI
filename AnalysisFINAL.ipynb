{
 "cells": [
  {
   "cell_type": "code",
   "execution_count": null,
   "metadata": {
    "collapsed": false
   },
   "outputs": [],
   "source": [
    "from htmd import *\n",
    "htmd.config(viewer='VMD')\n",
    "def analysis(sims,boot=0.8,clusters=1000,merge=5):\n",
    "    metr = Metric(sims)\n",
    "    metr.projection(MetricDistance('protein and name CA', 'resname MOL and noh', metric='contacts'))\n",
    "    data = metr.project()\n",
    "    data.fstep = 0.1\n",
    "    data.plotTrajSizes()\n",
    "    print('\\n\\n\\n\\n\\n')\n",
    "    data.dropTraj()\n",
    "    tica = TICA(data, 10)\n",
    "    dataTica = tica.project(3)\n",
    "    dataBoot = dataTica.bootstrap(0.8)\n",
    "    dataBoot.cluster(MiniBatchKMeans(n_clusters=1000), mergesmall=5) #try with dataTica instead of dataBoot\n",
    "    model = Model(dataBoot) #try with dataTica\n",
    "    model.plotTimescales() \n",
    "    print('\\n\\n\\n\\n\\n')\n",
    "    nframes=input('At which time do time scales converge?')\n",
    "    ntimescales=input('How many different time scales do you see?')\n",
    "    model.markovModel(int(nframes)*10, int(ntimescales)) \n",
    "    mols = model.getStates()\n",
    "\n",
    "    model.viewStates(ligand='resname MOL and noh')\n",
    "    kin = Kinetics(model, temperature=298, concentration=0.0037)\n",
    "    goodmacros=dict()\n",
    "    mols = model.getStates()\n",
    "    for i in range(len(mols)):\n",
    "        for j in range(len(mols)):\n",
    "            r = kin.getRates(i,j)\n",
    "            if r.g0eq < -0.2:\n",
    "                try:\n",
    "                    goodmacros[i].append(j)\n",
    "                except:\n",
    "                    goodmacros[i]=[j]\n",
    "    \n",
    "    curr_max_len=0\n",
    "    for keys in goodmacros:\n",
    "        if len(goodmacros[keys])>curr_max_len:\n",
    "            curr_max_len=len(goodmacros[keys])\n",
    "            thekey=keys\n",
    "\n",
    "    retlist=list()\n",
    "    for sinks in goodmacros[thekey]:\n",
    "        retlist.append(mols[sinks])\n",
    "    kin.plotRates(rates=('g0eq'))\n",
    "    print(\"---\")\n",
    "    kin.plotFluxPathways()    \n",
    "    return retlist"
   ]
  },
  {
   "cell_type": "code",
   "execution_count": null,
   "metadata": {
    "collapsed": false
   },
   "outputs": [],
   "source": [
    "%pylab inline\n",
    "all_molecules=list()\n",
    "all_dir=glob('./*_sampling/filtered/')\n",
    "for directory in all_dir:\n",
    "    print(\"\\n\\n\\n========== Current ligand directory:\",directory,\" ==========\\n\")\n",
    "    try:\n",
    "        print(glob(directory+'*/'), glob(directory+'/filtered.pdb'))\n",
    "        sims = simlist(glob(directory+'*/'), glob(directory+'/filtered.pdb'))\n",
    "        all_molecules.append(analysis(sims,boot=0.8,clusters=1000,merge=5)) \n",
    "    except:\n",
    "        print('\\n########################################################## \\n\\n Trajectories are to small. Starting analysis for next folder.\\n\\n ########################################################## \\n')\n",
    "        continue"
   ]
  },
  {
   "cell_type": "code",
   "execution_count": null,
   "metadata": {
    "collapsed": false
   },
   "outputs": [],
   "source": [
    "print(all_molecules)"
   ]
  }
 ],
 "metadata": {
  "kernelspec": {
   "display_name": "Python 3",
   "language": "python",
   "name": "python3"
  },
  "language_info": {
   "codemirror_mode": {
    "name": "ipython",
    "version": 3
   },
   "file_extension": ".py",
   "mimetype": "text/x-python",
   "name": "python",
   "nbconvert_exporter": "python",
   "pygments_lexer": "ipython3",
   "version": "3.5.1"
  }
 },
 "nbformat": 4,
 "nbformat_minor": 0
}
