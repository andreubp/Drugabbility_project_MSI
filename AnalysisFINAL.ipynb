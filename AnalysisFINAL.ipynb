{
 "cells": [
  {
   "cell_type": "code",
   "execution_count": 3,
   "metadata": {
    "collapsed": false
   },
   "outputs": [],
   "source": [
    "from htmd import *\n",
    "htmd.config(viewer='VMD')\n",
    "def analysis(sims,boot=0.8,clusters=1000,merge=5):\n",
    "    metr = Metric(sims)\n",
    "    metr.projection(MetricDistance('protein and name CA', 'resname MOL and noh', metric='contacts'))\n",
    "    data = metr.project()\n",
    "    data.fstep = 0.1\n",
    "    data.plotTrajSizes()\n",
    "    print('\\n\\n\\n\\n\\n')\n",
    "    data.dropTraj()\n",
    "    tica = TICA(data, 10)\n",
    "    dataTica = tica.project(3)\n",
    "    dataBoot = dataTica.bootstrap(0.8)\n",
    "    dataBoot.cluster(MiniBatchKMeans(n_clusters=1000), mergesmall=5) #try with dataTica instead of dataBoot\n",
    "    model = Model(dataBoot) #try with dataTica\n",
    "    model.plotTimescales() \n",
    "    print('\\n\\n\\n\\n\\n')\n",
    "    nframes=input('At which time do time scales converge?')\n",
    "    ntimescales=input('How many different time scales do you see?')\n",
    "    model.markovModel(int(nframes)*10, int(ntimescales)) \n",
    "    mols = model.getStates()\n",
    "\n",
    "    model.viewStates(ligand='resname MOL and noh')\n",
    "    kin = Kinetics(model, temperature=298, concentration=0.0037)\n",
    "    goodmacros=dict()\n",
    "    mols = model.getStates()\n",
    "    for i in range(len(mols)):\n",
    "        for j in range(len(mols)):\n",
    "            r = kin.getRates(i,j)\n",
    "            if r.g0eq < -0.2:\n",
    "                try:\n",
    "                    goodmacros[i].append(j)\n",
    "                except:\n",
    "                    goodmacros[i]=[j]\n",
    "    \n",
    "    curr_max_len=0\n",
    "    for keys in goodmacros:\n",
    "        if len(goodmacros[keys])>curr_max_len:\n",
    "            curr_max_len=len(goodmacros[keys])\n",
    "            thekey=keys\n",
    "\n",
    "    retlist=list()\n",
    "    for sinks in goodmacros[thekey]:\n",
    "        retlist.append(mols[sinks])\n",
    "    kin.plotRates(rates=('g0eq'))\n",
    "    print(\"---\")\n",
    "    kin.plotFluxPathways()    \n",
    "    return retlist"
   ]
  },
  {
   "cell_type": "code",
   "execution_count": 4,
   "metadata": {
    "collapsed": false
   },
   "outputs": [
    {
     "name": "stderr",
     "output_type": "stream",
     "text": [
      "WARNING: pylab import has clobbered these variables: ['random']\n",
      "`%matplotlib` prevents importing * from pylab and numpy\n",
      "2016-06-30 13:49:45,157 - htmd.simlist - INFO - Starting listing of simulations.\n"
     ]
    },
    {
     "name": "stdout",
     "output_type": "stream",
     "text": [
      "Populating the interactive namespace from numpy and matplotlib\n",
      "\n",
      "\n",
      "\n",
      "========== Current ligand directory: ./benzamidine_adaptative_sampling/filtered/  ==========\n",
      "\n",
      "['./benzamidine_adaptative_sampling/filtered/1/', './benzamidine_adaptative_sampling/filtered/2/', './benzamidine_adaptative_sampling/filtered/e2s1_2p0f40/', './benzamidine_adaptative_sampling/filtered/e2s2_2p0f38/', './benzamidine_adaptative_sampling/filtered/e3s1_1p0f2/'] ['./benzamidine_adaptative_sampling/filtered//filtered.pdb']\n",
      "Creating simlist: 100% (5/5) [#####################################] eta 00:01 |"
     ]
    },
    {
     "name": "stderr",
     "output_type": "stream",
     "text": [
      "2016-06-30 13:49:45,162 - htmd.simlist - INFO - Finished listing of simulations.\n"
     ]
    },
    {
     "name": "stdout",
     "output_type": "stream",
     "text": [
      "\n"
     ]
    },
    {
     "name": "stderr",
     "output_type": "stream",
     "text": [
      "2016-06-30 13:49:45,366 - htmd.projections.metric - INFO - Metric: Starting projection of trajectories.\n",
      "[Parallel(n_jobs=-2)]: Done   1 tasks      | elapsed:    0.2s\n",
      "[Parallel(n_jobs=-2)]: Batch computation too fast (0.1647s.) Setting batch_size=2.\n",
      "[Parallel(n_jobs=-2)]: Done   6 out of   5 | elapsed:    0.2s remaining:   -0.0s\n",
      "[Parallel(n_jobs=-2)]: Done   6 out of   5 | elapsed:    0.2s remaining:   -0.0s\n",
      "[Parallel(n_jobs=-2)]: Done   6 out of   5 | elapsed:    0.3s remaining:   -0.1s\n",
      "[Parallel(n_jobs=-2)]: Done   6 out of   5 | elapsed:    0.3s remaining:   -0.1s\n",
      "[Parallel(n_jobs=-2)]: Done   5 out of   5 | elapsed:    0.3s finished\n",
      "2016-06-30 13:49:45,855 - htmd.projections.metric - INFO - Finished projecting the trajectories.\n",
      "2016-06-30 13:49:45,857 - htmd.projections.metric - INFO - Frame step 0.0ns was read from the trajectories. If it looks wrong, redefine it by manually setting the MetricData.fstep property.\n"
     ]
    },
    {
     "data": {
      "image/png": "[encoded data removed]",
      "text/plain": [
       "<matplotlib.figure.Figure at 0x7f1096e03eb8>"
      ]
     },
     "metadata": {},
     "output_type": "display_data"
    },
    {
     "name": "stderr",
     "output_type": "stream",
     "text": [
      "2016-06-30 13:49:46,019 - htmd.metricdata - INFO - Dropped 1 trajectories from 5 resulting in 4\n"
     ]
    },
    {
     "name": "stdout",
     "output_type": "stream",
     "text": [
      "\n",
      "\n",
      "\n",
      "\n",
      "\n",
      "\n"
     ]
    },
    {
     "name": "stderr",
     "output_type": "stream",
     "text": [
      "2016-06-30 13:49:47,341 - htmd.simlist - INFO - Starting listing of simulations.\n"
     ]
    },
    {
     "name": "stdout",
     "output_type": "stream",
     "text": [
      "\n",
      " ########################################################## \n",
      "\n",
      " Trajectories are to small. Starting analysis for next folder.\n",
      "\n",
      " ########################################################## \n",
      "\n",
      "\n",
      "\n",
      "\n",
      "========== Current ligand directory: ./choline_adaptative_sampling/filtered/  ==========\n",
      "\n",
      "['./choline_adaptative_sampling/filtered/1/', './choline_adaptative_sampling/filtered/2/', './choline_adaptative_sampling/filtered/3/', './choline_adaptative_sampling/filtered/4/', './choline_adaptative_sampling/filtered/5/', './choline_adaptative_sampling/filtered/e2s1_5p0f9/', './choline_adaptative_sampling/filtered/e2s2_1p0f137/', './choline_adaptative_sampling/filtered/e2s3_4p0f308/', './choline_adaptative_sampling/filtered/e2s4_5p0f6/', './choline_adaptative_sampling/filtered/e2s5_5p0f7/', './choline_adaptative_sampling/filtered/e2s6_5p0f11/', './choline_adaptative_sampling/filtered/e2s7_5p0f12/', './choline_adaptative_sampling/filtered/e2s8_5p0f15/'] ['./choline_adaptative_sampling/filtered//filtered.pdb']\n",
      "Creating simlist: 100% (13/13) [###################################] eta 00:00 -"
     ]
    },
    {
     "name": "stderr",
     "output_type": "stream",
     "text": [
      "2016-06-30 13:49:47,351 - htmd.simlist - INFO - Finished listing of simulations.\n"
     ]
    },
    {
     "name": "stdout",
     "output_type": "stream",
     "text": [
      "\n"
     ]
    },
    {
     "name": "stderr",
     "output_type": "stream",
     "text": [
      "2016-06-30 13:49:47,665 - htmd.projections.metric - INFO - Metric: Starting projection of trajectories.\n",
      "[Parallel(n_jobs=-2)]: Done   1 tasks      | elapsed:    0.7s\n",
      "[Parallel(n_jobs=-2)]: Done   2 tasks      | elapsed:    1.0s\n",
      "[Parallel(n_jobs=-2)]: Done   3 tasks      | elapsed:    1.0s\n",
      "[Parallel(n_jobs=-2)]: Done   4 tasks      | elapsed:    1.5s\n",
      "[Parallel(n_jobs=-2)]: Done   5 tasks      | elapsed:    1.7s\n",
      "[Parallel(n_jobs=-2)]: Done   6 tasks      | elapsed:    1.8s\n",
      "[Parallel(n_jobs=-2)]: Done   7 tasks      | elapsed:    2.3s\n",
      "[Parallel(n_jobs=-2)]: Done   8 tasks      | elapsed:    2.4s\n",
      "[Parallel(n_jobs=-2)]: Done  13 out of  13 | elapsed:    2.6s finished\n",
      "2016-06-30 13:49:50,467 - htmd.projections.metric - INFO - Finished projecting the trajectories.\n",
      "2016-06-30 13:49:50,469 - htmd.projections.metric - WARNING - Multiple framesteps were read from the simulations. Taking the statistical mode: 0.0ns. If it looks wrong, you can modify it by manually setting the MetricData.fstep property.\n"
     ]
    },
    {
     "data": {
      "image/png": "[encoded data removed]",
      "text/plain": [
       "<matplotlib.figure.Figure at 0x7f1096e632e8>"
      ]
     },
     "metadata": {},
     "output_type": "display_data"
    },
    {
     "name": "stderr",
     "output_type": "stream",
     "text": [
      "2016-06-30 13:49:50,674 - htmd.metricdata - INFO - Dropped 4 trajectories from 13 resulting in 9\n"
     ]
    },
    {
     "name": "stdout",
     "output_type": "stream",
     "text": [
      "\n",
      "\n",
      "\n",
      "\n",
      "\n",
      "\n"
     ]
    },
    {
     "name": "stderr",
     "output_type": "stream",
     "text": [
      "/home/mariona/miniconda3/lib/python3.5/site-packages/sklearn/cluster/k_means_.py:1300: RuntimeWarning: init_size=300 should be larger than k=1000. Setting it to 3*k\n",
      "  init_size=init_size)\n",
      "2016-06-30 13:49:54,845 - htmd.metricdata - INFO - Mergesmall removed 55 clusters. Original ncluster 63, new ncluster 8.\n"
     ]
    },
    {
     "name": "stdout",
     "output_type": "stream",
     "text": [
      "30-06-16 13:49:55 pyemma.msm.estimators.implied_timescales.ImpliedTimescales[6] WARNING  Changed user setting nits to the number of available timescales nits=7\n"
     ]
    },
    {
     "name": "stderr",
     "output_type": "stream",
     "text": [
      "2016-06-30 13:49:55,341 - pyemma.msm.estimators.implied_timescales.ImpliedTimescales[6] - WARNING - Changed user setting nits to the number of available timescales nits=7\n"
     ]
    },
    {
     "name": "stdout",
     "output_type": "stream",
     "text": [
      "30-06-16 13:49:55 pyemma.msm.estimators.implied_timescales.ImpliedTimescales[6] WARNING  Some timescales could not be computed. Timescales array is smaller than expected or contains NaNs\n"
     ]
    },
    {
     "name": "stderr",
     "output_type": "stream",
     "text": [
      "2016-06-30 13:49:55,344 - pyemma.msm.estimators.implied_timescales.ImpliedTimescales[6] - WARNING - Some timescales could not be computed. Timescales array is smaller than expected or contains NaNs\n"
     ]
    },
    {
     "data": {
      "image/png": "[encoded data removed]",
      "text/plain": [
       "<matplotlib.figure.Figure at 0x7f1096d7c630>"
      ]
     },
     "metadata": {},
     "output_type": "display_data"
    },
    {
     "name": "stdout",
     "output_type": "stream",
     "text": [
      "\n",
      "\n",
      "\n",
      "\n",
      "\n",
      "\n",
      "At which time do time scales converge?4\n",
      "How many different time scales do you see?2\n"
     ]
    },
    {
     "name": "stderr",
     "output_type": "stream",
     "text": [
      "2016-06-30 13:51:32,970 - htmd.model - INFO - 99.5% of the data was used\n",
      "2016-06-30 13:51:32,973 - htmd.model - INFO - Number of trajectories that visited each macrostate:\n",
      "2016-06-30 13:51:32,973 - htmd.model - INFO - [2 7]\n",
      "2016-06-30 13:51:32,975 - htmd.model - INFO - Take care! Macro 0 has been visited only in 2 trajectories:\n",
      "2016-06-30 13:51:32,976 - htmd.model - INFO - id = 3\n",
      "parent = None\n",
      "input = []\n",
      "trajectory = ['./choline_adaptative_sampling/filtered/4/output.filtered.xtc']\n",
      "molfile = ./choline_adaptative_sampling/filtered//filtered.pdb\n",
      "2016-06-30 13:51:32,977 - htmd.model - INFO - id = 4\n",
      "parent = None\n",
      "input = []\n",
      "trajectory = ['./choline_adaptative_sampling/filtered/5/output.filtered.xtc']\n",
      "molfile = ./choline_adaptative_sampling/filtered//filtered.pdb\n",
      "[Parallel(n_jobs=1)]: Done   1 tasks       | elapsed:    0.4s\n",
      "[Parallel(n_jobs=1)]: Done   2 tasks       | elapsed:    2.4s\n",
      "[Parallel(n_jobs=1)]: Done   2 out of   2 | elapsed:    2.4s finished\n",
      "[Parallel(n_jobs=1)]: Done   1 tasks       | elapsed:    0.4s\n",
      "[Parallel(n_jobs=1)]: Done   2 tasks       | elapsed:    2.1s\n",
      "[Parallel(n_jobs=1)]: Done   2 out of   2 | elapsed:    2.1s finished\n",
      "2016-06-30 13:51:40,661 - htmd.kinetics - INFO - Detecting source state...\n",
      "2016-06-30 13:51:40,678 - htmd.kinetics - INFO - Guessing the source state as the state with minimum contacts.\n",
      "2016-06-30 13:51:40,678 - htmd.kinetics - INFO - Source macro = 1\n",
      "2016-06-30 13:51:40,679 - htmd.kinetics - INFO - Detecting sink state...\n",
      "2016-06-30 13:51:40,680 - htmd.kinetics - INFO - Sink macro = 0\n",
      "[Parallel(n_jobs=1)]: Done   1 tasks       | elapsed:    0.4s\n",
      "[Parallel(n_jobs=1)]: Done   2 tasks       | elapsed:    2.4s\n",
      "[Parallel(n_jobs=1)]: Done   2 out of   2 | elapsed:    2.4s finished\n",
      "2016-06-30 13:51:43,245 - htmd.kinetics - INFO - Calculating rates between source: 0 and sink: 0 states.\n",
      "2016-06-30 13:51:43,246 - htmd.kinetics - INFO - Calculating rates between state and itself gives 0\n",
      "2016-06-30 13:51:43,247 - htmd.kinetics - INFO - Calculating rates between source: 0 and sink: 1 states.\n",
      "2016-06-30 13:51:43,251 - htmd.kinetics - INFO - Concentration correction of 3.32 kcal/mol.\n",
      "2016-06-30 13:51:43,251 - htmd.kinetics - INFO - Calculating rates between source: 1 and sink: 0 states.\n",
      "2016-06-30 13:51:43,254 - htmd.kinetics - INFO - Concentration correction of -3.32 kcal/mol.\n",
      "2016-06-30 13:51:43,255 - htmd.kinetics - INFO - Calculating rates between source: 1 and sink: 1 states.\n",
      "2016-06-30 13:51:43,256 - htmd.kinetics - INFO - Calculating rates between state and itself gives 0\n",
      "2016-06-30 13:51:43,269 - htmd.simlist - INFO - Starting listing of simulations.\n"
     ]
    },
    {
     "name": "stdout",
     "output_type": "stream",
     "text": [
      "\n",
      " ########################################################## \n",
      "\n",
      " Trajectories are to small. Starting analysis for next folder.\n",
      "\n",
      " ########################################################## \n",
      "\n",
      "\n",
      "\n",
      "\n",
      "========== Current ligand directory: ./ethanol_adaptative_sampling/filtered/  ==========\n",
      "\n",
      "['./ethanol_adaptative_sampling/filtered/1/', './ethanol_adaptative_sampling/filtered/2/', './ethanol_adaptative_sampling/filtered/3/', './ethanol_adaptative_sampling/filtered/4/', './ethanol_adaptative_sampling/filtered/5/', './ethanol_adaptative_sampling/filtered/e1s1_1/', './ethanol_adaptative_sampling/filtered/e2s1_4p0f5/', './ethanol_adaptative_sampling/filtered/e2s2_5p0f357/', './ethanol_adaptative_sampling/filtered/e2s3_5p0f10/', './ethanol_adaptative_sampling/filtered/e2s4_5p0f349/', './ethanol_adaptative_sampling/filtered/e2s5_2p0f410/', './ethanol_adaptative_sampling/filtered/e2s6_3p0f184/', './ethanol_adaptative_sampling/filtered/e2s7_2p0f35/', './ethanol_adaptative_sampling/filtered/e3s1_5p0f85/', './ethanol_adaptative_sampling/filtered/e3s2_5p0f362/', './ethanol_adaptative_sampling/filtered/e4s1_e2s2p0f57/', './ethanol_adaptative_sampling/filtered/e4s2_5p0f252/', './ethanol_adaptative_sampling/filtered/e5s1_e2s5p0f343/', './ethanol_adaptative_sampling/filtered/e5s2_e2s1p0f0/'] ['./ethanol_adaptative_sampling/filtered//filtered.pdb']\n",
      "Creating simlist: 100% (19/19) [###################################] eta 00:01 |"
     ]
    },
    {
     "name": "stderr",
     "output_type": "stream",
     "text": [
      "2016-06-30 13:51:43,288 - htmd.simlist - INFO - Finished listing of simulations.\n"
     ]
    },
    {
     "name": "stdout",
     "output_type": "stream",
     "text": [
      "\n"
     ]
    },
    {
     "name": "stderr",
     "output_type": "stream",
     "text": [
      "2016-06-30 13:51:43,635 - htmd.projections.metric - INFO - Metric: Starting projection of trajectories.\n",
      "[Parallel(n_jobs=-2)]: Done   1 tasks      | elapsed:    0.6s\n",
      "[Parallel(n_jobs=-2)]: Done   2 tasks      | elapsed:    0.9s\n",
      "[Parallel(n_jobs=-2)]: Done   3 tasks      | elapsed:    0.9s\n",
      "[Parallel(n_jobs=-2)]: Done   4 tasks      | elapsed:    1.1s\n",
      "[Parallel(n_jobs=-2)]: Done   5 tasks      | elapsed:    1.3s\n",
      "[Parallel(n_jobs=-2)]: Done   6 tasks      | elapsed:    1.6s\n",
      "[Parallel(n_jobs=-2)]: Done   7 tasks      | elapsed:    1.9s\n",
      "[Parallel(n_jobs=-2)]: Done   8 tasks      | elapsed:    2.2s\n",
      "[Parallel(n_jobs=-2)]: Done   9 tasks      | elapsed:    2.4s\n",
      "[Parallel(n_jobs=-2)]: Done  10 tasks      | elapsed:    2.5s\n",
      "[Parallel(n_jobs=-2)]: Done  11 tasks      | elapsed:    3.0s\n",
      "[Parallel(n_jobs=-2)]: Done  12 tasks      | elapsed:    3.2s\n",
      "[Parallel(n_jobs=-2)]: Done  13 tasks      | elapsed:    3.4s\n",
      "[Parallel(n_jobs=-2)]: Done  14 tasks      | elapsed:    3.9s\n",
      "[Parallel(n_jobs=-2)]: Done  19 out of  19 | elapsed:    4.5s finished\n",
      "2016-06-30 13:51:48,358 - htmd.projections.metric - INFO - Finished projecting the trajectories.\n",
      "2016-06-30 13:51:48,359 - htmd.projections.metric - INFO - Frame step 0.0ns was read from the trajectories. If it looks wrong, redefine it by manually setting the MetricData.fstep property.\n"
     ]
    },
    {
     "data": {
      "image/png": "[encoded data removed]",
      "text/plain": [
       "<matplotlib.figure.Figure at 0x7f10b8167c18>"
      ]
     },
     "metadata": {},
     "output_type": "display_data"
    },
    {
     "name": "stderr",
     "output_type": "stream",
     "text": [
      "2016-06-30 13:51:48,613 - htmd.metricdata - INFO - Dropped 6 trajectories from 19 resulting in 13\n"
     ]
    },
    {
     "name": "stdout",
     "output_type": "stream",
     "text": [
      "\n",
      "\n",
      "\n",
      "\n",
      "\n",
      "\n"
     ]
    },
    {
     "name": "stderr",
     "output_type": "stream",
     "text": [
      "/home/mariona/miniconda3/lib/python3.5/site-packages/sklearn/cluster/k_means_.py:1300: RuntimeWarning: init_size=300 should be larger than k=1000. Setting it to 3*k\n",
      "  init_size=init_size)\n",
      "2016-06-30 13:51:51,220 - htmd.metricdata - INFO - Mergesmall removed 533 clusters. Original ncluster 577, new ncluster 44.\n"
     ]
    },
    {
     "name": "stdout",
     "output_type": "stream",
     "text": [
      "\n",
      " ########################################################## \n",
      "\n",
      " Trajectories are to small. Starting analysis for next folder.\n",
      "\n",
      " ########################################################## \n",
      "\n"
     ]
    }
   ],
   "source": [
    "%pylab inline\n",
    "all_molecules=list()\n",
    "all_dir=glob('./*_sampling/filtered/')\n",
    "for directory in all_dir:\n",
    "    print(\"\\n\\n\\n========== Current ligand directory:\",directory,\" ==========\\n\")\n",
    "    try:\n",
    "        print(glob(directory+'*/'), glob(directory+'/filtered.pdb'))\n",
    "        sims = simlist(glob(directory+'*/'), glob(directory+'/filtered.pdb'))\n",
    "        all_molecules.append(analysis(sims,boot=0.8,clusters=1000,merge=5)) \n",
    "    except:\n",
    "        print('\\n ########################################################## \\n\\n Trajectories are to small. Starting analysis for next folder.\\n\\n ########################################################## \\n')\n",
    "        continue"
   ]
  },
  {
   "cell_type": "code",
   "execution_count": null,
   "metadata": {
    "collapsed": false
   },
   "outputs": [],
   "source": [
    "print(all_molecules)"
   ]
  }
 ],
 "metadata": {
  "kernelspec": {
   "display_name": "Python 3",
   "language": "python",
   "name": "python3"
  },
  "language_info": {
   "codemirror_mode": {
    "name": "ipython",
    "version": 3
   },
   "file_extension": ".py",
   "mimetype": "text/x-python",
   "name": "python",
   "nbconvert_exporter": "python",
   "pygments_lexer": "ipython3",
   "version": "3.5.1"
  }
 },
 "nbformat": 4,
 "nbformat_minor": 0
}
